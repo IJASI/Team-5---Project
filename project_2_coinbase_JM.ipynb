{
 "cells": [
  {
   "cell_type": "code",
   "execution_count": null,
   "metadata": {},
   "outputs": [],
   "source": [
    "import pandas as pd\n",
    "import numpy as np\n",
    "from pathlib import Path\n",
    "import hvplot.pandas\n",
    "import matplotlib.pyplot as plt\n",
    "from dotenv import load_dotenv\n",
    "import datetime as dt\n",
    "import requests\n",
    "import json\n",
    "import base64\n",
    "import hmac\n",
    "import hashlib\n",
    "import time\n",
    "import asyncio\n",
    "from sklearn import svm\n",
    "from sklearn.preprocessing import StandardScaler\n",
    "from pandas.tseries.offsets import DateOffset\n",
    "from sklearn.metrics import classification_report\n",
    "from sklearn.model_selection import train_test_split"
   ]
  },
  {
   "cell_type": "code",
   "execution_count": null,
   "metadata": {},
   "outputs": [],
   "source": [
    "from coinbase.wallet.client import Client\n",
    "#public_client = cbpro.PublicClient()\n",
    "import cbpro\n",
    "public_client = cbpro.PublicClient()"
   ]
  },
  {
   "cell_type": "code",
   "execution_count": null,
   "metadata": {},
   "outputs": [],
   "source": [
    "\"\"\" loading the client's api keys and secret keys \"\"\"\n",
    "load_dotenv()\n",
    "api_key = os.getenv(\"COINBASE_SAND_API\")\n",
    "api_secret = os.getenv(\"COINBASE_SAND_SECRET\")\n",
    "#api_passphrase = \"columbia2021\"\n",
    "api_passphrase = os.getenv(\"COINBASE_SAND_PASSPHRASE\")\n",
    "#print(api_passphrase)\n",
    "#print(api_secret)\n",
    "#client = Client(api_key, api_secret, api_passphrase)\n"
   ]
  },
  {
   "cell_type": "code",
   "execution_count": null,
   "metadata": {},
   "outputs": [],
   "source": [
    "public_client = cbpro.PublicClient()"
   ]
  },
  {
   "cell_type": "code",
   "execution_count": null,
   "metadata": {},
   "outputs": [],
   "source": [
    "\"\"\" authorizing the api to interact with the sandbox\"\"\"\n",
    "\n",
    "auth_client = cbpro.AuthenticatedClient(api_key, api_secret, api_passphrase,\n",
    "                                  api_url=\"https://api-public.sandbox.pro.coinbase.com\")"
   ]
  },
  {
   "cell_type": "code",
   "execution_count": null,
   "metadata": {},
   "outputs": [],
   "source": [
    "data = public_client.get_product_historic_rates('BTC-USD')\n",
    "data"
   ]
  },
  {
   "cell_type": "code",
   "execution_count": null,
   "metadata": {},
   "outputs": [],
   "source": [
    "accounts = auth_client.get_accounts()\n",
    "accounts"
   ]
  },
  {
   "cell_type": "code",
   "execution_count": null,
   "metadata": {},
   "outputs": [],
   "source": [
    "\"\"\" authorizing the api to interact with the sandbox\"\"\"\n",
    "\n",
    "auth_client = cbpro.AuthenticatedClient(api_key, api_secret, api_passphrase,\n",
    "                                  api_url=\"https://api-public.sandbox.pro.coinbase.com\")"
   ]
  },
  {
   "cell_type": "code",
   "execution_count": null,
   "metadata": {},
   "outputs": [],
   "source": [
    "\n",
    "\n",
    "#requests.get(\"https://api-public.sandbox.exchange.coinbase.com\")\n",
    "\n"
   ]
  },
  {
   "cell_type": "code",
   "execution_count": null,
   "metadata": {},
   "outputs": [],
   "source": [
    "currency_code = \"USD\""
   ]
  },
  {
   "cell_type": "code",
   "execution_count": null,
   "metadata": {},
   "outputs": [],
   "source": [
    "currencies = public_client.get_product_ticker(201)\n",
    "#btc = currencies[201]\n",
    "#ada = currencies[35]\n",
    "currencies"
   ]
  },
  {
   "cell_type": "code",
   "execution_count": null,
   "metadata": {},
   "outputs": [],
   "source": [
    "public_client.get_product_order_book('BTC-USD')"
   ]
  },
  {
   "cell_type": "code",
   "execution_count": null,
   "metadata": {},
   "outputs": [],
   "source": [
    "btc_ticker = public_client.get_product_ticker(product_id='BTC-USD')\n",
    "#btc_ticker_df = pd.DataFrame(btc_ticker)"
   ]
  },
  {
   "cell_type": "code",
   "execution_count": null,
   "metadata": {},
   "outputs": [],
   "source": [
    "\"\"\" getting 24 hour stats \"\"\"\n",
    "\n",
    "btc_24hr = public_client.get_product_24hr_stats('BTC-USD')\n",
    "\n",
    "btc_24hr_df = pd.DataFrame.from_dict(btc_24hr, \n",
    "    orient='index',dtype=None, #columns=None\n",
    ")\n",
    "\n",
    "btc_24hr_df\n"
   ]
  },
  {
   "cell_type": "code",
   "execution_count": null,
   "metadata": {},
   "outputs": [],
   "source": [
    "\"\"\" getting the product ticker and time stamp \"\"\"\n",
    "\n",
    "btc = public_client.get_product_ticker('BTC-USD')\n",
    "\n",
    "btc_df = pd.DataFrame.from_dict(btc,\n",
    "    orient='index',dtype=None, #columns=None\n",
    ")\n",
    "\n",
    "btc_df"
   ]
  },
  {
   "cell_type": "code",
   "execution_count": null,
   "metadata": {},
   "outputs": [],
   "source": [
    "\"\"\" resetting the dataframe and time as index, dropping unneeded columns\"\"\"\n",
    "\n",
    "btc_close = btc_df.transpose().set_index('time')\n",
    "\n",
    "#btc_close = btc_df.transpose().set_index('time').drop(columns=['trade_id', 'size', 'ask', 'volume', 'bid'])\n",
    "\n",
    "\n",
    "btc_close"
   ]
  },
  {
   "cell_type": "code",
   "execution_count": null,
   "metadata": {},
   "outputs": [],
   "source": [
    "#btc_close['time'] = pd.to_datetime(btc_close['time'], unit='d')"
   ]
  },
  {
   "cell_type": "code",
   "execution_count": null,
   "metadata": {},
   "outputs": [],
   "source": [
    "\"\"\" getting the client's sandbox wallet \"\"\"\n",
    "auth_client.get_accounts()"
   ]
  },
  {
   "cell_type": "code",
   "execution_count": null,
   "metadata": {},
   "outputs": [],
   "source": [
    "\"\"\" sell order btc to usd \"\"\"\n",
    "\n",
    "auth_client.sell(size='1', #BTC\n",
    "               order_type='market',\n",
    "               product_id='BTC-USD')"
   ]
  },
  {
   "cell_type": "code",
   "execution_count": null,
   "metadata": {},
   "outputs": [],
   "source": [
    "\"\"\" buy order btc from usd \"\"\"\n",
    "auth_client.buy(size='1', #BTC\n",
    "               order_type='market',\n",
    "               product_id='BTC-USD')"
   ]
  },
  {
   "cell_type": "markdown",
   "metadata": {},
   "source": [
    "next is setting the buy and sell signals"
   ]
  },
  {
   "cell_type": "code",
   "execution_count": 118,
   "metadata": {},
   "outputs": [
    {
     "data": {
      "text/html": [
       "<div>\n",
       "<style scoped>\n",
       "    .dataframe tbody tr th:only-of-type {\n",
       "        vertical-align: middle;\n",
       "    }\n",
       "\n",
       "    .dataframe tbody tr th {\n",
       "        vertical-align: top;\n",
       "    }\n",
       "\n",
       "    .dataframe thead th {\n",
       "        text-align: right;\n",
       "    }\n",
       "</style>\n",
       "<table border=\"1\" class=\"dataframe\">\n",
       "  <thead>\n",
       "    <tr style=\"text-align: right;\">\n",
       "      <th></th>\n",
       "      <th>trade_id</th>\n",
       "      <th>price</th>\n",
       "      <th>size</th>\n",
       "      <th>bid</th>\n",
       "      <th>ask</th>\n",
       "      <th>volume</th>\n",
       "    </tr>\n",
       "    <tr>\n",
       "      <th>time</th>\n",
       "      <th></th>\n",
       "      <th></th>\n",
       "      <th></th>\n",
       "      <th></th>\n",
       "      <th></th>\n",
       "      <th></th>\n",
       "    </tr>\n",
       "  </thead>\n",
       "  <tbody>\n",
       "    <tr>\n",
       "      <th>2021-10-11T13:35:46.111273Z</th>\n",
       "      <td>219964318</td>\n",
       "      <td>56889.99</td>\n",
       "      <td>0.00050915</td>\n",
       "      <td>56889.99</td>\n",
       "      <td>56890</td>\n",
       "      <td>10914.66157561</td>\n",
       "    </tr>\n",
       "  </tbody>\n",
       "</table>\n",
       "</div>"
      ],
      "text/plain": [
       "                              trade_id     price        size       bid    ask  \\\n",
       "time                                                                            \n",
       "2021-10-11T13:35:46.111273Z  219964318  56889.99  0.00050915  56889.99  56890   \n",
       "\n",
       "                                     volume  \n",
       "time                                         \n",
       "2021-10-11T13:35:46.111273Z  10914.66157561  "
      ]
     },
     "execution_count": 118,
     "metadata": {},
     "output_type": "execute_result"
    }
   ],
   "source": [
    "btc_close"
   ]
  },
  {
   "cell_type": "code",
   "execution_count": null,
   "metadata": {},
   "outputs": [],
   "source": [
    "btc_hist_data = public_client.get_product_historic_rates('BTC-USD')\n",
    "btc_hist_data"
   ]
  },
  {
   "cell_type": "code",
   "execution_count": null,
   "metadata": {},
   "outputs": [],
   "source": [
    "import btalib\n",
    "\"\"\" not sure if i need this import \"\"\""
   ]
  },
  {
   "cell_type": "code",
   "execution_count": null,
   "metadata": {},
   "outputs": [],
   "source": [
    "\"\"\" converting the historical data to dataframe and renaming the columns\n",
    "!!! I need to change the time columns to datetime and don't know how !!!\n",
    "\"\"\"\n",
    "btc_hist_data_df = pd.DataFrame(data, columns=['date', 'open', 'high', 'low', 'close', 'volume'])\n",
    "btc_hist_data_df .set_index('date', inplace=True)\n",
    "print(btc_hist_data_df.head())"
   ]
  },
  {
   "cell_type": "code",
   "execution_count": null,
   "metadata": {},
   "outputs": [],
   "source": [
    "\"\"\" saving the historical data to csv \"\"\"\n",
    "btc_hist_data_df.to_csv('HistoricRates')\n"
   ]
  },
  {
   "cell_type": "code",
   "execution_count": null,
   "metadata": {},
   "outputs": [],
   "source": [
    "#btc_hist_data_df['20sma'] = dataframe.close.rolling(20).mean()\n",
    "#print(btc_hist_data_df.tail(5))"
   ]
  },
  {
   "cell_type": "code",
   "execution_count": null,
   "metadata": {},
   "outputs": [],
   "source": [
    "#btc_sma = btalib.sma(btc_hist_data_df.close)\n",
    "#print(btc_sma.df)"
   ]
  },
  {
   "cell_type": "code",
   "execution_count": null,
   "metadata": {},
   "outputs": [],
   "source": [
    "#btc_hist_data_df['sma'] = btalib.sma(btc_hist_data_df.close, period=20).df\n",
    "#btc_hist_data_df.tail()"
   ]
  },
  {
   "cell_type": "code",
   "execution_count": null,
   "metadata": {},
   "outputs": [],
   "source": [
    "\"\"\" creating a signals dataframe to hole the values of the actual returns \"\"\"\n",
    "\n",
    "signals_df = btc_hist_data_df.loc[:, [\"close\"]]\n",
    "\n",
    "signals_df[\"Actual Returns\"] = signals_df[\"close\"].pct_change()\n",
    "\n",
    "signals_df = signals_df.dropna()\n",
    "\n",
    "display(signals_df.head())\n",
    "display(signals_df.tail())"
   ]
  },
  {
   "cell_type": "code",
   "execution_count": null,
   "metadata": {},
   "outputs": [],
   "source": [
    "\"\"\" setting the rolling windows for the long and short positions\"\"\"\n",
    "short_window = 4\n",
    "long_window = 100\n",
    "\n",
    "signals_df['SMA_Fast'] = signals_df['close'].rolling(window=short_window).mean()\n",
    "signals_df['SMA_Slow'] = signals_df['close'].rolling(window=long_window).mean()\n",
    "\n",
    "signals_df = signals_df.dropna()\n",
    "\n",
    "display(signals_df.head())\n",
    "display(signals_df.tail())"
   ]
  },
  {
   "cell_type": "code",
   "execution_count": null,
   "metadata": {},
   "outputs": [],
   "source": [
    "\"\"\" creating a new signals dataframe to hold the signals\n",
    "creating buy and sell signals according to the actual returns in the data\n",
    "\"\"\"\n",
    "signals_df['Signal'] = 0.0\n",
    "\n",
    "signals_df.loc[(signals_df['Actual Returns'] >= 0), 'Signal'] = 1\n",
    "\n",
    "signals_df.loc[(signals_df['Actual Returns'] < 0), 'Signal'] = -1\n",
    "\n",
    "display(signals_df.head())\n",
    "display(signals_df.tail())"
   ]
  },
  {
   "cell_type": "code",
   "execution_count": null,
   "metadata": {},
   "outputs": [],
   "source": [
    "\"\"\" evaluating the balance of the signals\"\"\"\n",
    "signals_df['Signal'].value_counts()"
   ]
  },
  {
   "cell_type": "code",
   "execution_count": null,
   "metadata": {},
   "outputs": [],
   "source": [
    "\"\"\" creating a strategy returns colums to hold the returns data using the signals\n",
    "programmed in the code\n",
    "\"\"\"\n",
    "signals_df['Strategy Returns'] = signals_df['Actual Returns'] * signals_df['Signal'].shift()\n",
    "\n",
    "display(signals_df.head())\n",
    "display(signals_df.tail())"
   ]
  },
  {
   "cell_type": "code",
   "execution_count": null,
   "metadata": {},
   "outputs": [],
   "source": [
    "\"\"\" plotting the strategy returns to better see the data \"\"\"\n",
    "\n",
    "(1 + signals_df['Strategy Returns']).cumprod().plot(x=\"close\")"
   ]
  },
  {
   "cell_type": "code",
   "execution_count": null,
   "metadata": {},
   "outputs": [],
   "source": [
    "\"\"\" creating an X features dataframe to split the data into training and testing data\"\"\"\n",
    "\n",
    "X = signals_df[['SMA_Fast', 'SMA_Slow']].shift().dropna()\n",
    "\n",
    "\n",
    "X.head()"
   ]
  },
  {
   "cell_type": "code",
   "execution_count": null,
   "metadata": {},
   "outputs": [],
   "source": [
    "\"\"\" creating a y dataframe to hold the prediction data \"\"\"\n",
    "\n",
    "y = signals_df['Signal']\n",
    "\n",
    "\n",
    "y.value_counts()"
   ]
  },
  {
   "cell_type": "code",
   "execution_count": null,
   "metadata": {},
   "outputs": [],
   "source": [
    "\"\"\" telling the algorithm when to start the training data \"\"\"\n",
    "training_begin = X.index.min()\n",
    "\n",
    "print(training_begin)"
   ]
  },
  {
   "cell_type": "code",
   "execution_count": null,
   "metadata": {},
   "outputs": [],
   "source": [
    "\"\"\" telling the algorithm when to end the training data \"\"\"\n",
    "training_end = X.index.min() + DateOffset(months=3)\n",
    "\n",
    "print(training_end)"
   ]
  },
  {
   "cell_type": "code",
   "execution_count": null,
   "metadata": {},
   "outputs": [],
   "source": [
    "\"\"\" creating new training dataframes using the start/end data\"\"\"\n",
    "X_train = X.loc[training_begin:training_end]\n",
    "y_train = y.loc[training_begin:training_end]\n",
    "\n",
    "X_train.head()"
   ]
  },
  {
   "cell_type": "code",
   "execution_count": null,
   "metadata": {},
   "outputs": [],
   "source": [
    "\"\"\" creating new testing dataframes using the start/end data\"\"\"\n",
    "X_test = X.loc[training_end+DateOffset(hours=1):]\n",
    "y_test = y.loc[training_end+DateOffset(hours=1):]\n",
    "\n",
    "X_test.head()"
   ]
  },
  {
   "cell_type": "code",
   "execution_count": null,
   "metadata": {},
   "outputs": [],
   "source": [
    "\"\"\" scaling the X data using StandardScaler instance \"\"\"\n",
    "\n",
    "scaler = StandardScaler()\n",
    "\n",
    "X_scaler = scaler.fit(X_train)\n",
    "\n",
    "X_train_scaled = X_scaler.transform(X_train)\n",
    "X_test_scaled = X_scaler.transform(X_test)"
   ]
  },
  {
   "cell_type": "code",
   "execution_count": null,
   "metadata": {},
   "outputs": [],
   "source": [
    "\"\"\" creating an SVM model to backtest the data \"\"\"\n",
    "\n",
    "svm_model = svm.SVC()\n",
    " \n",
    "svm_model = svm_model.fit(X_train_scaled, y_train)\n",
    " \n",
    "svm_pred = svm_model.predict(X_test_scaled)\n",
    "\n",
    "svm_pred[:10]"
   ]
  },
  {
   "cell_type": "code",
   "execution_count": null,
   "metadata": {},
   "outputs": [],
   "source": [
    "\"\"\" creating a classification report to see the model's performance \"\"\"\n",
    "svm_testing_report = classification_report(y_test, svm_pred)\n",
    "\n",
    "\n",
    "print(svm_testing_report)"
   ]
  },
  {
   "cell_type": "code",
   "execution_count": null,
   "metadata": {},
   "outputs": [],
   "source": [
    "\"\"\" creating a new dataframe to hold the predictions of y using the X_test data \n",
    "We are using the actual and predicted returns to calculate the strategy returns\n",
    "\"\"\"\n",
    "\n",
    "predictions_df = pd.DataFrame(index=X_test.index)\n",
    "\n",
    "\n",
    "predictions_df['Predicted'] = svm_pred\n",
    "\n",
    "\n",
    "predictions_df['Actual Returns'] = signals_df['Actual Returns']\n",
    "\n",
    "\n",
    "predictions_df['Strategy Returns'] = predictions_df['Actual Returns'] * predictions_df['Predicted']\n",
    "\n",
    "display(predictions_df.head())\n",
    "display(predictions_df.tail())"
   ]
  },
  {
   "cell_type": "code",
   "execution_count": null,
   "metadata": {},
   "outputs": [],
   "source": [
    "\"\"\" plotting the actual returns vs the strategy returns to analyse the performance of the model\"\"\"\n",
    "\n",
    "\n",
    "(1 + predictions_df[[\"Actual Returns\", \"Strategy Returns\"]]).cumprod().plot()"
   ]
  }
 ],
 "metadata": {
  "interpreter": {
   "hash": "355e22f55709980bd95602fc32fe5dc8b27eaab306115ac68fb642e898e2a58d"
  },
  "kernelspec": {
   "display_name": "Python 3.7.10 64-bit ('dev': conda)",
   "name": "python3"
  },
  "language_info": {
   "codemirror_mode": {
    "name": "ipython",
    "version": 3
   },
   "file_extension": ".py",
   "mimetype": "text/x-python",
   "name": "python",
   "nbconvert_exporter": "python",
   "pygments_lexer": "ipython3",
   "version": "3.7.10"
  },
  "orig_nbformat": 4
 },
 "nbformat": 4,
 "nbformat_minor": 2
}
